{
 "cells": [
  {
   "cell_type": "markdown",
   "metadata": {},
   "source": [
    "# 🦎 Camouflaged Object Detection - EDA Notebook\n",
    "This notebook explores the CAMO dataset, visualizes sample images and masks, and inspects augmentation pipelines."
   ]
  },
  {
   "cell_type": "code",
   "execution_count": 1,
   "metadata": {},
   "outputs": [],
   "source": [
    "import os\n",
    "import cv2\n",
    "import matplotlib.pyplot as plt\n",
    "from tensorflow.keras.preprocessing.image import ImageDataGenerator\n",
    "\n",
    "# Dataset directories\n",
    "image_dir = '../data/CAMO/train/images'\n",
    "mask_dir = '../data/CAMO/train/masks'\n",
    "\n",
    "# List a few images\n",
    "images = sorted([f for f in os.listdir(image_dir) if f.endswith(('jpg','png'))])\n",
    "masks = sorted([f for f in os.listdir(mask_dir) if f.endswith(('jpg','png'))])\n",
    "print(f'Total images: {len(images)}, Total masks: {len(masks)}')"
   ]
  },
  {
   "cell_type": "code",
   "execution_count": 2,
   "metadata": {},
   "outputs": [],
   "source": [
    "# Display sample image-mask pairs\n",
    "for i in range(3):\n",
    "    img_path = os.path.join(image_dir, images[i])\n",
    "    mask_path = os.path.join(mask_dir, masks[i])\n",
    "    img = cv2.imread(img_path)\n",
    "    img = cv2.cvtColor(img, cv2.COLOR_BGR2RGB)\n",
    "    mask = cv2.imread(mask_path, cv2.IMREAD_GRAYSCALE)\n",
    "\n",
    "    plt.figure(figsize=(10,4))\n",
    "    plt.subplot(1,2,1); plt.imshow(img); plt.title('Image'); plt.axis('off')\n",
    "    plt.subplot(1,2,2); plt.imshow(mask, cmap='gray'); plt.title('Mask'); plt.axis('off')\n",
    "    plt.show()"
   ]
  },
  {
   "cell_type": "code",
   "execution_count": 3,
   "metadata": {},
   "outputs": [],
   "source": [
    "# Test augmentation pipeline\n",
    "datagen = ImageDataGenerator(rotation_range=15,\n",
    "                             width_shift_range=0.1,\n",
    "                             height_shift_range=0.1,\n",
    "                             horizontal_flip=True,\n",
    "                             zoom_range=0.1)\n",
    "\n",
    "sample_img = cv2.imread(os.path.join(image_dir, images[0]))\n",
    "sample_img = cv2.cvtColor(sample_img, cv2.COLOR_BGR2RGB)\n",
    "plt.figure(figsize=(12,6))\n",
    "for i, batch in enumerate(datagen.flow(sample_img.reshape((1,)+sample_img.shape), batch_size=1)):\n",
    "    plt.subplot(1,4,i+1)\n",
    "    plt.imshow(batch[0].astype('uint8'))\n",
    "    plt.axis('off')\n",
    "    if i == 3:\n",
    "        break\n",
    "plt.suptitle('Augmented Images')\n",
    "plt.show()"
   ]
  }
 ],
 "metadata": {
  "kernelspec": {
   "display_name": "Python 3",
   "language": "python",
   "name": "python3"
  }
 },
 "nbformat": 4,
 "nbformat_minor": 5
}